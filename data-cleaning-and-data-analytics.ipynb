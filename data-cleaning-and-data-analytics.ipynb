{
 "cells": [
  {
   "cell_type": "code",
   "execution_count": 1,
   "id": "7707cd7f",
   "metadata": {
    "_cell_guid": "b1076dfc-b9ad-4769-8c92-a6c4dae69d19",
    "_uuid": "8f2839f25d086af736a60e9eeb907d3b93b6e0e5",
    "execution": {
     "iopub.execute_input": "2024-07-12T21:34:03.500425Z",
     "iopub.status.busy": "2024-07-12T21:34:03.500022Z",
     "iopub.status.idle": "2024-07-12T21:34:04.433694Z",
     "shell.execute_reply": "2024-07-12T21:34:04.432259Z"
    },
    "papermill": {
     "duration": 0.943456,
     "end_time": "2024-07-12T21:34:04.436073",
     "exception": false,
     "start_time": "2024-07-12T21:34:03.492617",
     "status": "completed"
    },
    "tags": []
   },
   "outputs": [
    {
     "name": "stdout",
     "output_type": "stream",
     "text": [
      "/kaggle/input/test-file/tested.csv\n"
     ]
    }
   ],
   "source": [
    "# This Python 3 environment comes with many helpful analytics libraries installed\n",
    "# It is defined by the kaggle/python Docker image: https://github.com/kaggle/docker-python\n",
    "# For example, here's several helpful packages to load\n",
    "\n",
    "import numpy as np # linear algebra\n",
    "import pandas as pd # data processing, CSV file I/O (e.g. pd.read_csv)\n",
    "\n",
    "# Input data files are available in the read-only \"../input/\" directory\n",
    "# For example, running this (by clicking run or pressing Shift+Enter) will list all files under the input directory\n",
    "\n",
    "import os\n",
    "for dirname, _, filenames in os.walk('/kaggle/input'):\n",
    "    for filename in filenames:\n",
    "        print(os.path.join(dirname, filename))\n",
    "\n",
    "# You can write up to 20GB to the current directory (/kaggle/working/) that gets preserved as output when you create a version using \"Save & Run All\" \n",
    "# You can also write temporary files to /kaggle/temp/, but they won't be saved outside of the current session"
   ]
  },
  {
   "cell_type": "code",
   "execution_count": 2,
   "id": "27a7340b",
   "metadata": {
    "execution": {
     "iopub.execute_input": "2024-07-12T21:34:04.449060Z",
     "iopub.status.busy": "2024-07-12T21:34:04.448556Z",
     "iopub.status.idle": "2024-07-12T21:34:05.891006Z",
     "shell.execute_reply": "2024-07-12T21:34:05.890005Z"
    },
    "papermill": {
     "duration": 1.452021,
     "end_time": "2024-07-12T21:34:05.893780",
     "exception": false,
     "start_time": "2024-07-12T21:34:04.441759",
     "status": "completed"
    },
    "tags": []
   },
   "outputs": [],
   "source": [
    "import numpy as np\n",
    "import pandas as pd \n",
    "import seaborn as sns \n",
    "import matplotlib.pyplot as plt"
   ]
  },
  {
   "cell_type": "code",
   "execution_count": 3,
   "id": "e9b45c0e",
   "metadata": {
    "execution": {
     "iopub.execute_input": "2024-07-12T21:34:05.906933Z",
     "iopub.status.busy": "2024-07-12T21:34:05.906534Z",
     "iopub.status.idle": "2024-07-12T21:34:05.950882Z",
     "shell.execute_reply": "2024-07-12T21:34:05.949687Z"
    },
    "papermill": {
     "duration": 0.054215,
     "end_time": "2024-07-12T21:34:05.953646",
     "exception": false,
     "start_time": "2024-07-12T21:34:05.899431",
     "status": "completed"
    },
    "tags": []
   },
   "outputs": [
    {
     "data": {
      "text/html": [
       "<div>\n",
       "<style scoped>\n",
       "    .dataframe tbody tr th:only-of-type {\n",
       "        vertical-align: middle;\n",
       "    }\n",
       "\n",
       "    .dataframe tbody tr th {\n",
       "        vertical-align: top;\n",
       "    }\n",
       "\n",
       "    .dataframe thead th {\n",
       "        text-align: right;\n",
       "    }\n",
       "</style>\n",
       "<table border=\"1\" class=\"dataframe\">\n",
       "  <thead>\n",
       "    <tr style=\"text-align: right;\">\n",
       "      <th></th>\n",
       "      <th>PassengerId</th>\n",
       "      <th>Survived</th>\n",
       "      <th>Pclass</th>\n",
       "      <th>Name</th>\n",
       "      <th>Sex</th>\n",
       "      <th>Age</th>\n",
       "      <th>SibSp</th>\n",
       "      <th>Parch</th>\n",
       "      <th>Ticket</th>\n",
       "      <th>Fare</th>\n",
       "      <th>Cabin</th>\n",
       "      <th>Embarked</th>\n",
       "    </tr>\n",
       "  </thead>\n",
       "  <tbody>\n",
       "    <tr>\n",
       "      <th>0</th>\n",
       "      <td>892</td>\n",
       "      <td>0</td>\n",
       "      <td>3</td>\n",
       "      <td>Kelly, Mr. James</td>\n",
       "      <td>male</td>\n",
       "      <td>34.5</td>\n",
       "      <td>0</td>\n",
       "      <td>0</td>\n",
       "      <td>330911</td>\n",
       "      <td>7.8292</td>\n",
       "      <td>NaN</td>\n",
       "      <td>Q</td>\n",
       "    </tr>\n",
       "    <tr>\n",
       "      <th>1</th>\n",
       "      <td>893</td>\n",
       "      <td>1</td>\n",
       "      <td>3</td>\n",
       "      <td>Wilkes, Mrs. James (Ellen Needs)</td>\n",
       "      <td>female</td>\n",
       "      <td>47.0</td>\n",
       "      <td>1</td>\n",
       "      <td>0</td>\n",
       "      <td>363272</td>\n",
       "      <td>7.0000</td>\n",
       "      <td>NaN</td>\n",
       "      <td>S</td>\n",
       "    </tr>\n",
       "    <tr>\n",
       "      <th>2</th>\n",
       "      <td>894</td>\n",
       "      <td>0</td>\n",
       "      <td>2</td>\n",
       "      <td>Myles, Mr. Thomas Francis</td>\n",
       "      <td>male</td>\n",
       "      <td>62.0</td>\n",
       "      <td>0</td>\n",
       "      <td>0</td>\n",
       "      <td>240276</td>\n",
       "      <td>9.6875</td>\n",
       "      <td>NaN</td>\n",
       "      <td>Q</td>\n",
       "    </tr>\n",
       "    <tr>\n",
       "      <th>3</th>\n",
       "      <td>895</td>\n",
       "      <td>0</td>\n",
       "      <td>3</td>\n",
       "      <td>Wirz, Mr. Albert</td>\n",
       "      <td>male</td>\n",
       "      <td>27.0</td>\n",
       "      <td>0</td>\n",
       "      <td>0</td>\n",
       "      <td>315154</td>\n",
       "      <td>8.6625</td>\n",
       "      <td>NaN</td>\n",
       "      <td>S</td>\n",
       "    </tr>\n",
       "    <tr>\n",
       "      <th>4</th>\n",
       "      <td>896</td>\n",
       "      <td>1</td>\n",
       "      <td>3</td>\n",
       "      <td>Hirvonen, Mrs. Alexander (Helga E Lindqvist)</td>\n",
       "      <td>female</td>\n",
       "      <td>22.0</td>\n",
       "      <td>1</td>\n",
       "      <td>1</td>\n",
       "      <td>3101298</td>\n",
       "      <td>12.2875</td>\n",
       "      <td>NaN</td>\n",
       "      <td>S</td>\n",
       "    </tr>\n",
       "  </tbody>\n",
       "</table>\n",
       "</div>"
      ],
      "text/plain": [
       "   PassengerId  Survived  Pclass  \\\n",
       "0          892         0       3   \n",
       "1          893         1       3   \n",
       "2          894         0       2   \n",
       "3          895         0       3   \n",
       "4          896         1       3   \n",
       "\n",
       "                                           Name     Sex   Age  SibSp  Parch  \\\n",
       "0                              Kelly, Mr. James    male  34.5      0      0   \n",
       "1              Wilkes, Mrs. James (Ellen Needs)  female  47.0      1      0   \n",
       "2                     Myles, Mr. Thomas Francis    male  62.0      0      0   \n",
       "3                              Wirz, Mr. Albert    male  27.0      0      0   \n",
       "4  Hirvonen, Mrs. Alexander (Helga E Lindqvist)  female  22.0      1      1   \n",
       "\n",
       "    Ticket     Fare Cabin Embarked  \n",
       "0   330911   7.8292   NaN        Q  \n",
       "1   363272   7.0000   NaN        S  \n",
       "2   240276   9.6875   NaN        Q  \n",
       "3   315154   8.6625   NaN        S  \n",
       "4  3101298  12.2875   NaN        S  "
      ]
     },
     "execution_count": 3,
     "metadata": {},
     "output_type": "execute_result"
    }
   ],
   "source": [
    "ver  = pd.read_csv(\"//kaggle/input//test-file//tested.csv\")\n",
    "ver.head()"
   ]
  },
  {
   "cell_type": "code",
   "execution_count": 4,
   "id": "3f7ad2df",
   "metadata": {
    "execution": {
     "iopub.execute_input": "2024-07-12T21:34:05.967332Z",
     "iopub.status.busy": "2024-07-12T21:34:05.966926Z",
     "iopub.status.idle": "2024-07-12T21:34:05.974695Z",
     "shell.execute_reply": "2024-07-12T21:34:05.973257Z"
    },
    "papermill": {
     "duration": 0.017249,
     "end_time": "2024-07-12T21:34:05.977002",
     "exception": false,
     "start_time": "2024-07-12T21:34:05.959753",
     "status": "completed"
    },
    "tags": []
   },
   "outputs": [
    {
     "data": {
      "text/plain": [
       "(418, 12)"
      ]
     },
     "execution_count": 4,
     "metadata": {},
     "output_type": "execute_result"
    }
   ],
   "source": [
    "ver.shape"
   ]
  },
  {
   "cell_type": "code",
   "execution_count": 5,
   "id": "4260d123",
   "metadata": {
    "execution": {
     "iopub.execute_input": "2024-07-12T21:34:05.991156Z",
     "iopub.status.busy": "2024-07-12T21:34:05.990350Z",
     "iopub.status.idle": "2024-07-12T21:34:06.002180Z",
     "shell.execute_reply": "2024-07-12T21:34:06.001092Z"
    },
    "papermill": {
     "duration": 0.021409,
     "end_time": "2024-07-12T21:34:06.004550",
     "exception": false,
     "start_time": "2024-07-12T21:34:05.983141",
     "status": "completed"
    },
    "tags": []
   },
   "outputs": [
    {
     "data": {
      "text/plain": [
       "PassengerId      0\n",
       "Survived         0\n",
       "Pclass           0\n",
       "Name             0\n",
       "Sex              0\n",
       "Age             86\n",
       "SibSp            0\n",
       "Parch            0\n",
       "Ticket           0\n",
       "Fare             1\n",
       "Cabin          327\n",
       "Embarked         0\n",
       "dtype: int64"
      ]
     },
     "execution_count": 5,
     "metadata": {},
     "output_type": "execute_result"
    }
   ],
   "source": [
    "ver.isnull().sum()"
   ]
  },
  {
   "cell_type": "code",
   "execution_count": 6,
   "id": "26148021",
   "metadata": {
    "execution": {
     "iopub.execute_input": "2024-07-12T21:34:06.018435Z",
     "iopub.status.busy": "2024-07-12T21:34:06.017995Z",
     "iopub.status.idle": "2024-07-12T21:34:06.660332Z",
     "shell.execute_reply": "2024-07-12T21:34:06.658879Z"
    },
    "papermill": {
     "duration": 0.652155,
     "end_time": "2024-07-12T21:34:06.662892",
     "exception": false,
     "start_time": "2024-07-12T21:34:06.010737",
     "status": "completed"
    },
    "tags": []
   },
   "outputs": [
    {
     "data": {
      "image/png": "[encoded data removed]",
      "text/plain": [
       "<Figure size 640x480 with 2 Axes>"
      ]
     },
     "metadata": {},
     "output_type": "display_data"
    }
   ],
   "source": [
    "sns.heatmap(ver.isnull());"
   ]
  },
  {
   "cell_type": "code",
   "execution_count": 7,
   "id": "f268a89d",
   "metadata": {
    "execution": {
     "iopub.execute_input": "2024-07-12T21:34:06.677881Z",
     "iopub.status.busy": "2024-07-12T21:34:06.677476Z",
     "iopub.status.idle": "2024-07-12T21:34:06.700860Z",
     "shell.execute_reply": "2024-07-12T21:34:06.699413Z"
    },
    "papermill": {
     "duration": 0.033662,
     "end_time": "2024-07-12T21:34:06.703278",
     "exception": false,
     "start_time": "2024-07-12T21:34:06.669616",
     "status": "completed"
    },
    "tags": []
   },
   "outputs": [
    {
     "data": {
      "text/html": [
       "<div>\n",
       "<style scoped>\n",
       "    .dataframe tbody tr th:only-of-type {\n",
       "        vertical-align: middle;\n",
       "    }\n",
       "\n",
       "    .dataframe tbody tr th {\n",
       "        vertical-align: top;\n",
       "    }\n",
       "\n",
       "    .dataframe thead th {\n",
       "        text-align: right;\n",
       "    }\n",
       "</style>\n",
       "<table border=\"1\" class=\"dataframe\">\n",
       "  <thead>\n",
       "    <tr style=\"text-align: right;\">\n",
       "      <th></th>\n",
       "      <th>PassengerId</th>\n",
       "      <th>Survived</th>\n",
       "      <th>Pclass</th>\n",
       "      <th>Name</th>\n",
       "      <th>Sex</th>\n",
       "      <th>Age</th>\n",
       "      <th>SibSp</th>\n",
       "      <th>Parch</th>\n",
       "      <th>Ticket</th>\n",
       "      <th>Fare</th>\n",
       "      <th>Embarked</th>\n",
       "    </tr>\n",
       "  </thead>\n",
       "  <tbody>\n",
       "    <tr>\n",
       "      <th>0</th>\n",
       "      <td>892</td>\n",
       "      <td>0</td>\n",
       "      <td>3</td>\n",
       "      <td>Kelly, Mr. James</td>\n",
       "      <td>male</td>\n",
       "      <td>34.5</td>\n",
       "      <td>0</td>\n",
       "      <td>0</td>\n",
       "      <td>330911</td>\n",
       "      <td>7.8292</td>\n",
       "      <td>Q</td>\n",
       "    </tr>\n",
       "    <tr>\n",
       "      <th>1</th>\n",
       "      <td>893</td>\n",
       "      <td>1</td>\n",
       "      <td>3</td>\n",
       "      <td>Wilkes, Mrs. James (Ellen Needs)</td>\n",
       "      <td>female</td>\n",
       "      <td>47.0</td>\n",
       "      <td>1</td>\n",
       "      <td>0</td>\n",
       "      <td>363272</td>\n",
       "      <td>7.0000</td>\n",
       "      <td>S</td>\n",
       "    </tr>\n",
       "    <tr>\n",
       "      <th>2</th>\n",
       "      <td>894</td>\n",
       "      <td>0</td>\n",
       "      <td>2</td>\n",
       "      <td>Myles, Mr. Thomas Francis</td>\n",
       "      <td>male</td>\n",
       "      <td>62.0</td>\n",
       "      <td>0</td>\n",
       "      <td>0</td>\n",
       "      <td>240276</td>\n",
       "      <td>9.6875</td>\n",
       "      <td>Q</td>\n",
       "    </tr>\n",
       "    <tr>\n",
       "      <th>3</th>\n",
       "      <td>895</td>\n",
       "      <td>0</td>\n",
       "      <td>3</td>\n",
       "      <td>Wirz, Mr. Albert</td>\n",
       "      <td>male</td>\n",
       "      <td>27.0</td>\n",
       "      <td>0</td>\n",
       "      <td>0</td>\n",
       "      <td>315154</td>\n",
       "      <td>8.6625</td>\n",
       "      <td>S</td>\n",
       "    </tr>\n",
       "    <tr>\n",
       "      <th>4</th>\n",
       "      <td>896</td>\n",
       "      <td>1</td>\n",
       "      <td>3</td>\n",
       "      <td>Hirvonen, Mrs. Alexander (Helga E Lindqvist)</td>\n",
       "      <td>female</td>\n",
       "      <td>22.0</td>\n",
       "      <td>1</td>\n",
       "      <td>1</td>\n",
       "      <td>3101298</td>\n",
       "      <td>12.2875</td>\n",
       "      <td>S</td>\n",
       "    </tr>\n",
       "  </tbody>\n",
       "</table>\n",
       "</div>"
      ],
      "text/plain": [
       "   PassengerId  Survived  Pclass  \\\n",
       "0          892         0       3   \n",
       "1          893         1       3   \n",
       "2          894         0       2   \n",
       "3          895         0       3   \n",
       "4          896         1       3   \n",
       "\n",
       "                                           Name     Sex   Age  SibSp  Parch  \\\n",
       "0                              Kelly, Mr. James    male  34.5      0      0   \n",
       "1              Wilkes, Mrs. James (Ellen Needs)  female  47.0      1      0   \n",
       "2                     Myles, Mr. Thomas Francis    male  62.0      0      0   \n",
       "3                              Wirz, Mr. Albert    male  27.0      0      0   \n",
       "4  Hirvonen, Mrs. Alexander (Helga E Lindqvist)  female  22.0      1      1   \n",
       "\n",
       "    Ticket     Fare Embarked  \n",
       "0   330911   7.8292        Q  \n",
       "1   363272   7.0000        S  \n",
       "2   240276   9.6875        Q  \n",
       "3   315154   8.6625        S  \n",
       "4  3101298  12.2875        S  "
      ]
     },
     "execution_count": 7,
     "metadata": {},
     "output_type": "execute_result"
    }
   ],
   "source": [
    "ver.drop(\"Cabin\",axis=1,inplace=True)\n",
    "ver.head()"
   ]
  },
  {
   "cell_type": "code",
   "execution_count": 8,
   "id": "a41505fa",
   "metadata": {
    "execution": {
     "iopub.execute_input": "2024-07-12T21:34:06.718725Z",
     "iopub.status.busy": "2024-07-12T21:34:06.718293Z",
     "iopub.status.idle": "2024-07-12T21:34:06.730064Z",
     "shell.execute_reply": "2024-07-12T21:34:06.728817Z"
    },
    "papermill": {
     "duration": 0.022294,
     "end_time": "2024-07-12T21:34:06.732455",
     "exception": false,
     "start_time": "2024-07-12T21:34:06.710161",
     "status": "completed"
    },
    "tags": []
   },
   "outputs": [
    {
     "data": {
      "text/plain": [
       "array([3, 2, 1])"
      ]
     },
     "execution_count": 8,
     "metadata": {},
     "output_type": "execute_result"
    }
   ],
   "source": [
    "ver[\"Pclass\"].unique()"
   ]
  },
  {
   "cell_type": "code",
   "execution_count": 9,
   "id": "74ac0ef1",
   "metadata": {
    "execution": {
     "iopub.execute_input": "2024-07-12T21:34:06.748636Z",
     "iopub.status.busy": "2024-07-12T21:34:06.747484Z",
     "iopub.status.idle": "2024-07-12T21:34:06.754179Z",
     "shell.execute_reply": "2024-07-12T21:34:06.752956Z"
    },
    "papermill": {
     "duration": 0.016977,
     "end_time": "2024-07-12T21:34:06.756387",
     "exception": false,
     "start_time": "2024-07-12T21:34:06.739410",
     "status": "completed"
    },
    "tags": []
   },
   "outputs": [],
   "source": [
    "def impute_age(cols):\n",
    "    Age = cols[0]\n",
    "    Pclass = cols[1]\n",
    "    \n",
    "    if pd.isnull(Age):\n",
    "        if Pclass == 1:\n",
    "            return 41\n",
    "        elif Pclass == 2:\n",
    "            return 29\n",
    "        else:\n",
    "            return 24\n",
    "    else:\n",
    "        return Age\n",
    "    "
   ]
  },
  {
   "cell_type": "code",
   "execution_count": 10,
   "id": "52d34275",
   "metadata": {
    "execution": {
     "iopub.execute_input": "2024-07-12T21:34:06.771992Z",
     "iopub.status.busy": "2024-07-12T21:34:06.771598Z",
     "iopub.status.idle": "2024-07-12T21:34:06.794268Z",
     "shell.execute_reply": "2024-07-12T21:34:06.792930Z"
    },
    "papermill": {
     "duration": 0.03356,
     "end_time": "2024-07-12T21:34:06.796991",
     "exception": false,
     "start_time": "2024-07-12T21:34:06.763431",
     "status": "completed"
    },
    "tags": []
   },
   "outputs": [
    {
     "name": "stderr",
     "output_type": "stream",
     "text": [
      "/tmp/ipykernel_18/3864319009.py:2: FutureWarning: Series.__getitem__ treating keys as positions is deprecated. In a future version, integer keys will always be treated as labels (consistent with DataFrame behavior). To access a value by position, use `ser.iloc[pos]`\n",
      "  Age = cols[0]\n",
      "/tmp/ipykernel_18/3864319009.py:3: FutureWarning: Series.__getitem__ treating keys as positions is deprecated. In a future version, integer keys will always be treated as labels (consistent with DataFrame behavior). To access a value by position, use `ser.iloc[pos]`\n",
      "  Pclass = cols[1]\n"
     ]
    }
   ],
   "source": [
    "ver['Age'] = ver[['Age','Pclass']].apply(impute_age,axis=1)"
   ]
  },
  {
   "cell_type": "code",
   "execution_count": 11,
   "id": "c87be38f",
   "metadata": {
    "execution": {
     "iopub.execute_input": "2024-07-12T21:34:06.812393Z",
     "iopub.status.busy": "2024-07-12T21:34:06.812014Z",
     "iopub.status.idle": "2024-07-12T21:34:07.335829Z",
     "shell.execute_reply": "2024-07-12T21:34:07.334586Z"
    },
    "papermill": {
     "duration": 0.534488,
     "end_time": "2024-07-12T21:34:07.338391",
     "exception": false,
     "start_time": "2024-07-12T21:34:06.803903",
     "status": "completed"
    },
    "tags": []
   },
   "outputs": [
    {
     "data": {
      "image/png": "[encoded data removed]",
      "text/plain": [
       "<Figure size 640x480 with 2 Axes>"
      ]
     },
     "metadata": {},
     "output_type": "display_data"
    }
   ],
   "source": [
    "sns.heatmap(ver.isnull());"
   ]
  },
  {
   "cell_type": "code",
   "execution_count": 12,
   "id": "beb5736c",
   "metadata": {
    "execution": {
     "iopub.execute_input": "2024-07-12T21:34:07.355329Z",
     "iopub.status.busy": "2024-07-12T21:34:07.354942Z",
     "iopub.status.idle": "2024-07-12T21:34:07.363694Z",
     "shell.execute_reply": "2024-07-12T21:34:07.362572Z"
    },
    "papermill": {
     "duration": 0.020109,
     "end_time": "2024-07-12T21:34:07.366182",
     "exception": false,
     "start_time": "2024-07-12T21:34:07.346073",
     "status": "completed"
    },
    "tags": []
   },
   "outputs": [],
   "source": [
    "ver.dropna(inplace=True)"
   ]
  },
  {
   "cell_type": "code",
   "execution_count": 13,
   "id": "2a2b39ec",
   "metadata": {
    "execution": {
     "iopub.execute_input": "2024-07-12T21:34:07.382946Z",
     "iopub.status.busy": "2024-07-12T21:34:07.382572Z",
     "iopub.status.idle": "2024-07-12T21:34:07.391597Z",
     "shell.execute_reply": "2024-07-12T21:34:07.390464Z"
    },
    "papermill": {
     "duration": 0.020299,
     "end_time": "2024-07-12T21:34:07.394005",
     "exception": false,
     "start_time": "2024-07-12T21:34:07.373706",
     "status": "completed"
    },
    "tags": []
   },
   "outputs": [
    {
     "data": {
      "text/plain": [
       "PassengerId    0\n",
       "Survived       0\n",
       "Pclass         0\n",
       "Name           0\n",
       "Sex            0\n",
       "Age            0\n",
       "SibSp          0\n",
       "Parch          0\n",
       "Ticket         0\n",
       "Fare           0\n",
       "Embarked       0\n",
       "dtype: int64"
      ]
     },
     "execution_count": 13,
     "metadata": {},
     "output_type": "execute_result"
    }
   ],
   "source": [
    "ver.isnull().sum()"
   ]
  },
  {
   "cell_type": "code",
   "execution_count": 14,
   "id": "5cd193d2",
   "metadata": {
    "execution": {
     "iopub.execute_input": "2024-07-12T21:34:07.411758Z",
     "iopub.status.busy": "2024-07-12T21:34:07.411361Z",
     "iopub.status.idle": "2024-07-12T21:34:07.428965Z",
     "shell.execute_reply": "2024-07-12T21:34:07.427589Z"
    },
    "papermill": {
     "duration": 0.030311,
     "end_time": "2024-07-12T21:34:07.431977",
     "exception": false,
     "start_time": "2024-07-12T21:34:07.401666",
     "status": "completed"
    },
    "tags": []
   },
   "outputs": [
    {
     "name": "stdout",
     "output_type": "stream",
     "text": [
      "<class 'pandas.core.frame.DataFrame'>\n",
      "Index: 417 entries, 0 to 417\n",
      "Data columns (total 11 columns):\n",
      " #   Column       Non-Null Count  Dtype  \n",
      "---  ------       --------------  -----  \n",
      " 0   PassengerId  417 non-null    int64  \n",
      " 1   Survived     417 non-null    int64  \n",
      " 2   Pclass       417 non-null    int64  \n",
      " 3   Name         417 non-null    object \n",
      " 4   Sex          417 non-null    object \n",
      " 5   Age          417 non-null    float64\n",
      " 6   SibSp        417 non-null    int64  \n",
      " 7   Parch        417 non-null    int64  \n",
      " 8   Ticket       417 non-null    object \n",
      " 9   Fare         417 non-null    float64\n",
      " 10  Embarked     417 non-null    object \n",
      "dtypes: float64(2), int64(5), object(4)\n",
      "memory usage: 39.1+ KB\n"
     ]
    }
   ],
   "source": [
    "ver.info()"
   ]
  },
  {
   "cell_type": "code",
   "execution_count": 15,
   "id": "bc24200f",
   "metadata": {
    "execution": {
     "iopub.execute_input": "2024-07-12T21:34:07.449877Z",
     "iopub.status.busy": "2024-07-12T21:34:07.449467Z",
     "iopub.status.idle": "2024-07-12T21:34:07.465670Z",
     "shell.execute_reply": "2024-07-12T21:34:07.464581Z"
    },
    "papermill": {
     "duration": 0.028251,
     "end_time": "2024-07-12T21:34:07.468218",
     "exception": false,
     "start_time": "2024-07-12T21:34:07.439967",
     "status": "completed"
    },
    "tags": []
   },
   "outputs": [
    {
     "data": {
      "text/html": [
       "<div>\n",
       "<style scoped>\n",
       "    .dataframe tbody tr th:only-of-type {\n",
       "        vertical-align: middle;\n",
       "    }\n",
       "\n",
       "    .dataframe tbody tr th {\n",
       "        vertical-align: top;\n",
       "    }\n",
       "\n",
       "    .dataframe thead th {\n",
       "        text-align: right;\n",
       "    }\n",
       "</style>\n",
       "<table border=\"1\" class=\"dataframe\">\n",
       "  <thead>\n",
       "    <tr style=\"text-align: right;\">\n",
       "      <th></th>\n",
       "      <th>PassengerId</th>\n",
       "      <th>Survived</th>\n",
       "      <th>Pclass</th>\n",
       "      <th>Name</th>\n",
       "      <th>Sex</th>\n",
       "      <th>Age</th>\n",
       "      <th>SibSp</th>\n",
       "      <th>Parch</th>\n",
       "      <th>Ticket</th>\n",
       "      <th>Fare</th>\n",
       "      <th>Embarked</th>\n",
       "    </tr>\n",
       "  </thead>\n",
       "  <tbody>\n",
       "    <tr>\n",
       "      <th>0</th>\n",
       "      <td>892</td>\n",
       "      <td>0</td>\n",
       "      <td>3</td>\n",
       "      <td>Kelly, Mr. James</td>\n",
       "      <td>male</td>\n",
       "      <td>34.5</td>\n",
       "      <td>0</td>\n",
       "      <td>0</td>\n",
       "      <td>330911</td>\n",
       "      <td>7.8292</td>\n",
       "      <td>Q</td>\n",
       "    </tr>\n",
       "    <tr>\n",
       "      <th>1</th>\n",
       "      <td>893</td>\n",
       "      <td>1</td>\n",
       "      <td>3</td>\n",
       "      <td>Wilkes, Mrs. James (Ellen Needs)</td>\n",
       "      <td>female</td>\n",
       "      <td>47.0</td>\n",
       "      <td>1</td>\n",
       "      <td>0</td>\n",
       "      <td>363272</td>\n",
       "      <td>7.0000</td>\n",
       "      <td>S</td>\n",
       "    </tr>\n",
       "    <tr>\n",
       "      <th>2</th>\n",
       "      <td>894</td>\n",
       "      <td>0</td>\n",
       "      <td>2</td>\n",
       "      <td>Myles, Mr. Thomas Francis</td>\n",
       "      <td>male</td>\n",
       "      <td>62.0</td>\n",
       "      <td>0</td>\n",
       "      <td>0</td>\n",
       "      <td>240276</td>\n",
       "      <td>9.6875</td>\n",
       "      <td>Q</td>\n",
       "    </tr>\n",
       "    <tr>\n",
       "      <th>3</th>\n",
       "      <td>895</td>\n",
       "      <td>0</td>\n",
       "      <td>3</td>\n",
       "      <td>Wirz, Mr. Albert</td>\n",
       "      <td>male</td>\n",
       "      <td>27.0</td>\n",
       "      <td>0</td>\n",
       "      <td>0</td>\n",
       "      <td>315154</td>\n",
       "      <td>8.6625</td>\n",
       "      <td>S</td>\n",
       "    </tr>\n",
       "    <tr>\n",
       "      <th>4</th>\n",
       "      <td>896</td>\n",
       "      <td>1</td>\n",
       "      <td>3</td>\n",
       "      <td>Hirvonen, Mrs. Alexander (Helga E Lindqvist)</td>\n",
       "      <td>female</td>\n",
       "      <td>22.0</td>\n",
       "      <td>1</td>\n",
       "      <td>1</td>\n",
       "      <td>3101298</td>\n",
       "      <td>12.2875</td>\n",
       "      <td>S</td>\n",
       "    </tr>\n",
       "  </tbody>\n",
       "</table>\n",
       "</div>"
      ],
      "text/plain": [
       "   PassengerId  Survived  Pclass  \\\n",
       "0          892         0       3   \n",
       "1          893         1       3   \n",
       "2          894         0       2   \n",
       "3          895         0       3   \n",
       "4          896         1       3   \n",
       "\n",
       "                                           Name     Sex   Age  SibSp  Parch  \\\n",
       "0                              Kelly, Mr. James    male  34.5      0      0   \n",
       "1              Wilkes, Mrs. James (Ellen Needs)  female  47.0      1      0   \n",
       "2                     Myles, Mr. Thomas Francis    male  62.0      0      0   \n",
       "3                              Wirz, Mr. Albert    male  27.0      0      0   \n",
       "4  Hirvonen, Mrs. Alexander (Helga E Lindqvist)  female  22.0      1      1   \n",
       "\n",
       "    Ticket     Fare Embarked  \n",
       "0   330911   7.8292        Q  \n",
       "1   363272   7.0000        S  \n",
       "2   240276   9.6875        Q  \n",
       "3   315154   8.6625        S  \n",
       "4  3101298  12.2875        S  "
      ]
     },
     "execution_count": 15,
     "metadata": {},
     "output_type": "execute_result"
    }
   ],
   "source": [
    "ver.head()"
   ]
  },
  {
   "cell_type": "code",
   "execution_count": 16,
   "id": "cbf04437",
   "metadata": {
    "execution": {
     "iopub.execute_input": "2024-07-12T21:34:07.485858Z",
     "iopub.status.busy": "2024-07-12T21:34:07.485453Z",
     "iopub.status.idle": "2024-07-12T21:34:07.686558Z",
     "shell.execute_reply": "2024-07-12T21:34:07.685297Z"
    },
    "papermill": {
     "duration": 0.213053,
     "end_time": "2024-07-12T21:34:07.689255",
     "exception": false,
     "start_time": "2024-07-12T21:34:07.476202",
     "status": "completed"
    },
    "tags": []
   },
   "outputs": [],
   "source": [
    "from sklearn.preprocessing import LabelEncoder,StandardScaler"
   ]
  },
  {
   "cell_type": "code",
   "execution_count": 17,
   "id": "a59c6190",
   "metadata": {
    "execution": {
     "iopub.execute_input": "2024-07-12T21:34:07.707673Z",
     "iopub.status.busy": "2024-07-12T21:34:07.706652Z",
     "iopub.status.idle": "2024-07-12T21:34:07.714000Z",
     "shell.execute_reply": "2024-07-12T21:34:07.712881Z"
    },
    "papermill": {
     "duration": 0.018921,
     "end_time": "2024-07-12T21:34:07.716351",
     "exception": false,
     "start_time": "2024-07-12T21:34:07.697430",
     "status": "completed"
    },
    "tags": []
   },
   "outputs": [],
   "source": [
    "Name_en = LabelEncoder()\n",
    "ver[\"Name\"] = Name_en.fit_transform(ver[\"Name\"])"
   ]
  },
  {
   "cell_type": "code",
   "execution_count": 18,
   "id": "b2a70234",
   "metadata": {
    "execution": {
     "iopub.execute_input": "2024-07-12T21:34:07.734654Z",
     "iopub.status.busy": "2024-07-12T21:34:07.734149Z",
     "iopub.status.idle": "2024-07-12T21:34:07.740855Z",
     "shell.execute_reply": "2024-07-12T21:34:07.739676Z"
    },
    "papermill": {
     "duration": 0.01901,
     "end_time": "2024-07-12T21:34:07.743410",
     "exception": false,
     "start_time": "2024-07-12T21:34:07.724400",
     "status": "completed"
    },
    "tags": []
   },
   "outputs": [],
   "source": [
    "Sex_en = LabelEncoder()\n",
    "ver[\"Sex\"] = Sex_en.fit_transform(ver[\"Sex\"])"
   ]
  },
  {
   "cell_type": "code",
   "execution_count": 19,
   "id": "a31218be",
   "metadata": {
    "execution": {
     "iopub.execute_input": "2024-07-12T21:34:07.761635Z",
     "iopub.status.busy": "2024-07-12T21:34:07.761200Z",
     "iopub.status.idle": "2024-07-12T21:34:07.767319Z",
     "shell.execute_reply": "2024-07-12T21:34:07.766269Z"
    },
    "papermill": {
     "duration": 0.018239,
     "end_time": "2024-07-12T21:34:07.769629",
     "exception": false,
     "start_time": "2024-07-12T21:34:07.751390",
     "status": "completed"
    },
    "tags": []
   },
   "outputs": [],
   "source": [
    "Embarked_en = LabelEncoder()\n",
    "ver[\"Embarked\"] = Embarked_en.fit_transform(ver[\"Embarked\"])"
   ]
  },
  {
   "cell_type": "code",
   "execution_count": 20,
   "id": "c920e833",
   "metadata": {
    "execution": {
     "iopub.execute_input": "2024-07-12T21:34:07.787753Z",
     "iopub.status.busy": "2024-07-12T21:34:07.786911Z",
     "iopub.status.idle": "2024-07-12T21:34:07.801984Z",
     "shell.execute_reply": "2024-07-12T21:34:07.800903Z"
    },
    "papermill": {
     "duration": 0.026695,
     "end_time": "2024-07-12T21:34:07.804325",
     "exception": false,
     "start_time": "2024-07-12T21:34:07.777630",
     "status": "completed"
    },
    "tags": []
   },
   "outputs": [
    {
     "data": {
      "text/html": [
       "<div>\n",
       "<style scoped>\n",
       "    .dataframe tbody tr th:only-of-type {\n",
       "        vertical-align: middle;\n",
       "    }\n",
       "\n",
       "    .dataframe tbody tr th {\n",
       "        vertical-align: top;\n",
       "    }\n",
       "\n",
       "    .dataframe thead th {\n",
       "        text-align: right;\n",
       "    }\n",
       "</style>\n",
       "<table border=\"1\" class=\"dataframe\">\n",
       "  <thead>\n",
       "    <tr style=\"text-align: right;\">\n",
       "      <th></th>\n",
       "      <th>PassengerId</th>\n",
       "      <th>Survived</th>\n",
       "      <th>Pclass</th>\n",
       "      <th>Name</th>\n",
       "      <th>Sex</th>\n",
       "      <th>Age</th>\n",
       "      <th>SibSp</th>\n",
       "      <th>Parch</th>\n",
       "      <th>Ticket</th>\n",
       "      <th>Fare</th>\n",
       "      <th>Embarked</th>\n",
       "    </tr>\n",
       "  </thead>\n",
       "  <tbody>\n",
       "    <tr>\n",
       "      <th>0</th>\n",
       "      <td>892</td>\n",
       "      <td>0</td>\n",
       "      <td>3</td>\n",
       "      <td>206</td>\n",
       "      <td>1</td>\n",
       "      <td>34.5</td>\n",
       "      <td>0</td>\n",
       "      <td>0</td>\n",
       "      <td>330911</td>\n",
       "      <td>7.8292</td>\n",
       "      <td>1</td>\n",
       "    </tr>\n",
       "    <tr>\n",
       "      <th>1</th>\n",
       "      <td>893</td>\n",
       "      <td>1</td>\n",
       "      <td>3</td>\n",
       "      <td>402</td>\n",
       "      <td>0</td>\n",
       "      <td>47.0</td>\n",
       "      <td>1</td>\n",
       "      <td>0</td>\n",
       "      <td>363272</td>\n",
       "      <td>7.0000</td>\n",
       "      <td>2</td>\n",
       "    </tr>\n",
       "    <tr>\n",
       "      <th>2</th>\n",
       "      <td>894</td>\n",
       "      <td>0</td>\n",
       "      <td>2</td>\n",
       "      <td>269</td>\n",
       "      <td>1</td>\n",
       "      <td>62.0</td>\n",
       "      <td>0</td>\n",
       "      <td>0</td>\n",
       "      <td>240276</td>\n",
       "      <td>9.6875</td>\n",
       "      <td>1</td>\n",
       "    </tr>\n",
       "    <tr>\n",
       "      <th>3</th>\n",
       "      <td>895</td>\n",
       "      <td>0</td>\n",
       "      <td>3</td>\n",
       "      <td>407</td>\n",
       "      <td>1</td>\n",
       "      <td>27.0</td>\n",
       "      <td>0</td>\n",
       "      <td>0</td>\n",
       "      <td>315154</td>\n",
       "      <td>8.6625</td>\n",
       "      <td>2</td>\n",
       "    </tr>\n",
       "    <tr>\n",
       "      <th>4</th>\n",
       "      <td>896</td>\n",
       "      <td>1</td>\n",
       "      <td>3</td>\n",
       "      <td>178</td>\n",
       "      <td>0</td>\n",
       "      <td>22.0</td>\n",
       "      <td>1</td>\n",
       "      <td>1</td>\n",
       "      <td>3101298</td>\n",
       "      <td>12.2875</td>\n",
       "      <td>2</td>\n",
       "    </tr>\n",
       "  </tbody>\n",
       "</table>\n",
       "</div>"
      ],
      "text/plain": [
       "   PassengerId  Survived  Pclass  Name  Sex   Age  SibSp  Parch   Ticket  \\\n",
       "0          892         0       3   206    1  34.5      0      0   330911   \n",
       "1          893         1       3   402    0  47.0      1      0   363272   \n",
       "2          894         0       2   269    1  62.0      0      0   240276   \n",
       "3          895         0       3   407    1  27.0      0      0   315154   \n",
       "4          896         1       3   178    0  22.0      1      1  3101298   \n",
       "\n",
       "      Fare  Embarked  \n",
       "0   7.8292         1  \n",
       "1   7.0000         2  \n",
       "2   9.6875         1  \n",
       "3   8.6625         2  \n",
       "4  12.2875         2  "
      ]
     },
     "execution_count": 20,
     "metadata": {},
     "output_type": "execute_result"
    }
   ],
   "source": [
    "ver.head()"
   ]
  },
  {
   "cell_type": "code",
   "execution_count": 21,
   "id": "fd65cd26",
   "metadata": {
    "execution": {
     "iopub.execute_input": "2024-07-12T21:34:07.822561Z",
     "iopub.status.busy": "2024-07-12T21:34:07.822114Z",
     "iopub.status.idle": "2024-07-12T21:34:07.834764Z",
     "shell.execute_reply": "2024-07-12T21:34:07.833593Z"
    },
    "papermill": {
     "duration": 0.024981,
     "end_time": "2024-07-12T21:34:07.837569",
     "exception": false,
     "start_time": "2024-07-12T21:34:07.812588",
     "status": "completed"
    },
    "tags": []
   },
   "outputs": [
    {
     "name": "stdout",
     "output_type": "stream",
     "text": [
      "<class 'pandas.core.frame.DataFrame'>\n",
      "Index: 417 entries, 0 to 417\n",
      "Data columns (total 11 columns):\n",
      " #   Column       Non-Null Count  Dtype  \n",
      "---  ------       --------------  -----  \n",
      " 0   PassengerId  417 non-null    int64  \n",
      " 1   Survived     417 non-null    int64  \n",
      " 2   Pclass       417 non-null    int64  \n",
      " 3   Name         417 non-null    int64  \n",
      " 4   Sex          417 non-null    int64  \n",
      " 5   Age          417 non-null    float64\n",
      " 6   SibSp        417 non-null    int64  \n",
      " 7   Parch        417 non-null    int64  \n",
      " 8   Ticket       417 non-null    object \n",
      " 9   Fare         417 non-null    float64\n",
      " 10  Embarked     417 non-null    int64  \n",
      "dtypes: float64(2), int64(8), object(1)\n",
      "memory usage: 39.1+ KB\n"
     ]
    }
   ],
   "source": [
    "ver.info()"
   ]
  }
 ],
 "metadata": {
  "kaggle": {
   "accelerator": "none",
   "dataSources": [
    {
     "datasetId": 826163,
     "sourceId": 2879186,
     "sourceType": "datasetVersion"
    }
   ],
   "dockerImageVersionId": 30746,
   "isGpuEnabled": false,
   "isInternetEnabled": true,
   "language": "python",
   "sourceType": "notebook"
  },
  "kernelspec": {
   "display_name": "Python 3",
   "language": "python",
   "name": "python3"
  },
  "language_info": {
   "codemirror_mode": {
    "name": "ipython",
    "version": 3
   },
   "file_extension": ".py",
   "mimetype": "text/x-python",
   "name": "python",
   "nbconvert_exporter": "python",
   "pygments_lexer": "ipython3",
   "version": "3.10.13"
  },
  "papermill": {
   "default_parameters": {},
   "duration": 7.86847,
   "end_time": "2024-07-12T21:34:08.468347",
   "environment_variables": {},
   "exception": null,
   "input_path": "__notebook__.ipynb",
   "output_path": "__notebook__.ipynb",
   "parameters": {},
   "start_time": "2024-07-12T21:34:00.599877",
   "version": "2.5.0"
  }
 },
 "nbformat": 4,
 "nbformat_minor": 5
}
